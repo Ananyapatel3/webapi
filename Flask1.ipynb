{
 "cells": [
  {
   "cell_type": "code",
   "execution_count": null,
   "id": "64963658-ca99-40c6-bbc8-83cc1b185d05",
   "metadata": {},
   "outputs": [],
   "source": [
    "Q1. What is Flask Framework? What are the advantages of Flask Framework?"
   ]
  },
  {
   "cell_type": "code",
   "execution_count": null,
   "id": "cef34312-b228-4666-8fae-8c90eebd4d48",
   "metadata": {},
   "outputs": [],
   "source": [
    "Flask is a popular and lightweight web application framework for Python that allows developers to build web applications quickly and efficiently. It is classified as a micro-framework because it does not require any particular tools or libraries to function and leaves the development choices to the developers. Flask is based on the Werkzeug WSGI toolkit and the Jinja2 template engine.\n",
    "\n",
    "Advantages of Flask Framework:\n",
    "1. Lightweight: Flask is a lightweight framework and it does not require any particular tools or libraries, which makes it easy to learn and use.\n",
    "\n",
    "2. Flexibility: Flask is highly flexible and allows developers to use any kind of database, ORM, or templating engine they want.\n",
    "\n",
    "3. Easy to set up: Flask is easy to set up, which means that developers can start working on their projects quickly without spending time on configuration and setup.\n",
    "\n",
    "4. Fast: Flask provides fast response times and can handle multiple requests concurrently, which makes it suitable for building high-performance web applications.\n",
    "\n",
    "5. Extensible: Flask is highly extensible, which means that developers can add new functionality to their projects easily by installing third-party packages.\n",
    "\n",
    "6. Large Community: Flask has a large community of developers who contribute to its development, provide support, and create plugins that developers can use to extend its functionality.\n",
    "\n",
    "7. Scalable: Flask provides scalability for web applications, meaning that developers can build large-scale applications that can handle a high number of users without compromising on performance.\n",
    "\n",
    "8. Testing: Flask provides built-in testing support and allows developers to test their applications easily, which helps to reduce the possibility of bugs in the final result."
   ]
  },
  {
   "cell_type": "code",
   "execution_count": null,
   "id": "2628c0f5-4f04-484d-b628-7cc04139e387",
   "metadata": {},
   "outputs": [],
   "source": [
    "Q2. Create a simple Flask application to display ‘Hello World!!’. Attach the screenshot of the output in\n",
    "Jupyter Notebook."
   ]
  },
  {
   "cell_type": "code",
   "execution_count": null,
   "id": "db0b8c0a-c1a0-4d72-8f15-8a0d0658c352",
   "metadata": {},
   "outputs": [],
   "source": [
    "\n",
    "\n",
    "```python\n",
    "from flask import Flask\n",
    "\n",
    "app = Flask(__name__)\n",
    "\n",
    "@app.route('/')\n",
    "def hello():\n",
    "    return 'Hello World!!'\n",
    "\n",
    "if __name__ == '__main__':\n",
    "    app.run()\n",
    "```"
   ]
  },
  {
   "cell_type": "code",
   "execution_count": null,
   "id": "b02713a2-675a-486b-b4cd-53d348ba255b",
   "metadata": {},
   "outputs": [],
   "source": [
    "Q3. What is App routing in Flask? Why do we use app routes?"
   ]
  },
  {
   "cell_type": "code",
   "execution_count": null,
   "id": "feb2f00d-7374-4735-98c2-e3712158a66d",
   "metadata": {},
   "outputs": [],
   "source": [
    "App routing in Flask refers to the process of mapping URLs (Uniform Resource Locators) to Python functions that will handle the corresponding HTTP requests. The app routing mechanism in Flask is based on the `@app.route()` decorator, which is used to bind a function (view) to a URL.\n",
    "\n",
    "The Flask app routes are used to specify the behavior of the application when a particular URL is being accessed. Flask routes are a set of rules that define how the application will respond to incoming HTTP requests. \n",
    "\n",
    "We use app routes in Flask for the following reasons:\n",
    "\n",
    "1. URL Mapping: App routes are used to map user requests to specific URL patterns that the application can understand and handle.\n",
    "\n",
    "2. Code Organizing: App routes help to organize the code of the Flask application, making it easier to maintain and update.\n",
    "\n",
    "3. Improved User Experience: App routes help to improve the user experience by providing them with the right content or page when they request for a specific URL.\n",
    "\n",
    "4. Security: App routes can also help to secure the application by allowing developers to implement authentication and authorization mechanisms based on the URLs being accessed. \n",
    "\n",
    "Overall, Flask app routes provide a clear and concise mechanism for developers to manage the interaction between URLs and the functions that handle the incoming requests."
   ]
  },
  {
   "cell_type": "code",
   "execution_count": null,
   "id": "9090fd42-e145-47d3-9863-9485b713084e",
   "metadata": {},
   "outputs": [],
   "source": [
    "Q4. Create a “/welcome” route to display the welcome message “Welcome to ABC Corporation” and a “/”\n",
    "route to show the following details:\n",
    "Company Name: ABC Corporation\n",
    "Location: India\n",
    "Contact Detail: 999-999-9999"
   ]
  },
  {
   "cell_type": "code",
   "execution_count": null,
   "id": "0b83a849-8eea-469f-a294-8910eea45a9a",
   "metadata": {},
   "outputs": [],
   "source": [
    "\n",
    "\n",
    "```python\n",
    "from flask import Flask\n",
    "\n",
    "app = Flask(__name__)\n",
    "\n",
    "@app.route('/')\n",
    "def index():\n",
    "    return '''Company Name: ABC Corporation <br>\n",
    "              Location: India <br>\n",
    "              Contact Detail: 999-999-9999'''\n",
    "\n",
    "@app.route('/welcome')\n",
    "def welcome():\n",
    "    return 'Welcome to ABC Corporation'\n",
    "\n",
    "if __name__ == '__main__':\n",
    "    app.run(debug=True)\n",
    "```\n",
    "\n"
   ]
  },
  {
   "cell_type": "code",
   "execution_count": null,
   "id": "a3e25472-f6aa-4c5c-851e-cb6db1b322a2",
   "metadata": {},
   "outputs": [],
   "source": [
    "Q5. What function is used in Flask for URL Building? Write a Python code to demonstrate the working of the\n",
    "url_for() function."
   ]
  },
  {
   "cell_type": "code",
   "execution_count": null,
   "id": "476f5d21-82e3-45b8-be56-f819e00dc5b4",
   "metadata": {},
   "outputs": [],
   "source": []
  },
  {
   "cell_type": "code",
   "execution_count": null,
   "id": "04a66e00-63cc-4f17-b66d-b18e0ac995a0",
   "metadata": {},
   "outputs": [],
   "source": []
  },
  {
   "cell_type": "code",
   "execution_count": null,
   "id": "5065d693-699d-4204-8804-b9768d8d9c07",
   "metadata": {},
   "outputs": [],
   "source": []
  },
  {
   "cell_type": "code",
   "execution_count": null,
   "id": "0931928c-ae94-48a2-ae6b-c6ea495585f0",
   "metadata": {},
   "outputs": [],
   "source": []
  },
  {
   "cell_type": "code",
   "execution_count": null,
   "id": "4f559406-05ba-46b2-b8b4-56c50f113d74",
   "metadata": {},
   "outputs": [],
   "source": []
  },
  {
   "cell_type": "code",
   "execution_count": null,
   "id": "8fcc7667-6e36-441e-9888-21fb8cd06483",
   "metadata": {},
   "outputs": [],
   "source": []
  }
 ],
 "metadata": {
  "kernelspec": {
   "display_name": "Python 3 (ipykernel)",
   "language": "python",
   "name": "python3"
  },
  "language_info": {
   "codemirror_mode": {
    "name": "ipython",
    "version": 3
   },
   "file_extension": ".py",
   "mimetype": "text/x-python",
   "name": "python",
   "nbconvert_exporter": "python",
   "pygments_lexer": "ipython3",
   "version": "3.10.8"
  }
 },
 "nbformat": 4,
 "nbformat_minor": 5
}
